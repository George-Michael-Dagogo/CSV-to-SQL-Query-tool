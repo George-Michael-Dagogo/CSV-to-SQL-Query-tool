{
 "cells": [
  {
   "cell_type": "code",
   "execution_count": 2,
   "metadata": {},
   "outputs": [
    {
     "name": "stdout",
     "output_type": "stream",
     "text": [
      "['1TomarLogo_OverlayGREEN-White-Registered1_207556c6-cf1f-4f1c-9d68-b2c08e56c885_50x@2x.png', 'info@tomar.com', 'info@tomar.com', 'info@tomar.com', 'info@tomar.com']\n"
     ]
    }
   ],
   "source": [
    "import requests\n",
    "import re\n",
    "\n",
    "url = \"https://traffic.tomar.com/pages/contact?srsltid=AfmBOoph6uGl7kjA9LGxHVYa-5f3oRl82Ta54c-xxi5RLK3c5TIYyNA4\"\n",
    "html = requests.get(url).text\n",
    "\n",
    "emails = re.findall(r\"[a-zA-Z0-9._%+-]+@[a-zA-Z0-9.-]+\\.[a-zA-Z]{2,}\", html)\n",
    "print(emails)\n"
   ]
  }
 ],
 "metadata": {
  "language_info": {
   "name": "python"
  }
 },
 "nbformat": 4,
 "nbformat_minor": 2
}
